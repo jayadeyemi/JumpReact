{
 "cells": [
  {
   "cell_type": "code",
   "execution_count": 1,
   "metadata": {},
   "outputs": [
    {
     "name": "stdout",
     "output_type": "stream",
     "text": [
      "Done! Consolidated contents are in aggregated_code.txt\n"
     ]
    }
   ],
   "source": [
    "import os\n",
    "\n",
    "def gather_files(root_directory, output_file):\n",
    "    \"\"\"\n",
    "    Recursively walk through the root_directory, read each file’s content,\n",
    "    and append it to the output_file with the file path as a header.\n",
    "    \"\"\"\n",
    "    with open(output_file, 'w', encoding='utf-8') as out:\n",
    "        for dirpath, _, filenames in os.walk(root_directory):\n",
    "            for filename in filenames:\n",
    "                file_path = os.path.join(dirpath, filename)\n",
    "\n",
    "                # Optionally skip the output file if it happens to reside in the same folder\n",
    "                if file_path == os.path.abspath(output_file):\n",
    "                    continue\n",
    "\n",
    "                # Write a header for the file\n",
    "                out.write(f\"File: {file_path}\\n\")\n",
    "                out.write(\"--------------------------------------------------\\n\")\n",
    "\n",
    "                # Read and write the file contents\n",
    "                try:\n",
    "                    with open(file_path, 'r', encoding='utf-8') as f:\n",
    "                        out.write(f.read())\n",
    "                except Exception as e:\n",
    "                    # If there's an issue reading (e.g. it's a binary file), note the error\n",
    "                    out.write(f\"[Error reading file: {e}]\\n\")\n",
    "\n",
    "                # Add some spacing before the next file’s content\n",
    "                out.write(\"\\n\\n\")\n",
    "\n",
    "\n",
    "if __name__ == \"__main__\":\n",
    "    # Example usage:\n",
    "    # You can change 'your_subdirectory_path' to the directory you want to scan\n",
    "    # and 'aggregated_code.txt' to your desired output filename.\n",
    "    gather_files(\"./JumpReact - Copy\", \"aggregated_code.txt\")\n",
    "    print(\"Done! Consolidated contents are in aggregated_code.txt\")\n"
   ]
  }
 ],
 "metadata": {
  "kernelspec": {
   "display_name": "Python 3",
   "language": "python",
   "name": "python3"
  },
  "language_info": {
   "codemirror_mode": {
    "name": "ipython",
    "version": 3
   },
   "file_extension": ".py",
   "mimetype": "text/x-python",
   "name": "python",
   "nbconvert_exporter": "python",
   "pygments_lexer": "ipython3",
   "version": "3.13.2"
  }
 },
 "nbformat": 4,
 "nbformat_minor": 2
}
